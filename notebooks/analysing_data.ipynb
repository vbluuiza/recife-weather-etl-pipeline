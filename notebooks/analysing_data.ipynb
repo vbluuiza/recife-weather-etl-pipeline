{
 "cells": [
  {
   "cell_type": "markdown",
   "id": "c83c903f",
   "metadata": {},
   "source": [
    "## 📖 Pipeline de Processamento de Dados Climáticos\n",
    "- Objetivo: Este notebook tem como objetivo carregar dados brutos de clima em formato JSON, processá-los, limpar sua estrutura e transformá-los em um DataFrame tabular pronto para análise."
   ]
  },
  {
   "cell_type": "markdown",
   "id": "1a8da9a1",
   "metadata": {},
   "source": [
    "### 1. Configuração e Importação de Bibliotecas"
   ]
  },
  {
   "cell_type": "code",
   "execution_count": 1,
   "id": "56146f11",
   "metadata": {},
   "outputs": [],
   "source": [
    "import pandas as pd\n",
    "import json\n",
    "import pytz\n",
    "from datetime import datetime, timedelta\n",
    "\n",
    "\n",
    "pd.set_option('display.max_rows', 500)\n",
    "pd.set_option('display.max_columns', 500)\n",
    "pd.set_option('display.width', 1000)"
   ]
  },
  {
   "cell_type": "markdown",
   "id": "3ac7c4c9",
   "metadata": {},
   "source": [
    "### 2. Carregamento dos Dados (Extração)"
   ]
  },
  {
   "cell_type": "code",
   "execution_count": 3,
   "id": "8d893753",
   "metadata": {},
   "outputs": [],
   "source": [
    "path = '../data/raw/recife_weather=2025-06-12_16-16-56.json'\n",
    "\n",
    "with open(path, 'r', encoding='utf-8') as f:\n",
    "    data_json = json.load(f)"
   ]
  },
  {
   "cell_type": "markdown",
   "id": "837cb7b3",
   "metadata": {},
   "source": [
    "### 3. Normalização e Junção Inicial do JSON\n",
    "- Os dados brutos foram extraídos de um JSON estruturado, contendo informações principais e uma subestrutura chamada `weather`. Utilizei o  `pd.json_normalize()` para \"achatar\" essas estruturas em DataFrames separados (`df_inicial` e `df_weather`) e, em seguida, combinei ambos com `pd.concat()`."
   ]
  },
  {
   "cell_type": "code",
   "execution_count": 4,
   "id": "4ada130f",
   "metadata": {},
   "outputs": [
    {
     "data": {
      "text/html": [
       "<div>\n",
       "<style scoped>\n",
       "    .dataframe tbody tr th:only-of-type {\n",
       "        vertical-align: middle;\n",
       "    }\n",
       "\n",
       "    .dataframe tbody tr th {\n",
       "        vertical-align: top;\n",
       "    }\n",
       "\n",
       "    .dataframe thead th {\n",
       "        text-align: right;\n",
       "    }\n",
       "</style>\n",
       "<table border=\"1\" class=\"dataframe\">\n",
       "  <thead>\n",
       "    <tr style=\"text-align: right;\">\n",
       "      <th></th>\n",
       "      <th>id</th>\n",
       "      <th>main</th>\n",
       "      <th>description</th>\n",
       "      <th>icon</th>\n",
       "      <th>base</th>\n",
       "      <th>visibility</th>\n",
       "      <th>dt</th>\n",
       "      <th>timezone</th>\n",
       "      <th>id</th>\n",
       "      <th>name</th>\n",
       "      <th>cod</th>\n",
       "      <th>coord.lon</th>\n",
       "      <th>coord.lat</th>\n",
       "      <th>main.temp</th>\n",
       "      <th>main.feels_like</th>\n",
       "      <th>main.temp_min</th>\n",
       "      <th>main.temp_max</th>\n",
       "      <th>main.pressure</th>\n",
       "      <th>main.humidity</th>\n",
       "      <th>main.sea_level</th>\n",
       "      <th>main.grnd_level</th>\n",
       "      <th>wind.speed</th>\n",
       "      <th>wind.deg</th>\n",
       "      <th>clouds.all</th>\n",
       "      <th>sys.type</th>\n",
       "      <th>sys.id</th>\n",
       "      <th>sys.country</th>\n",
       "      <th>sys.sunrise</th>\n",
       "      <th>sys.sunset</th>\n",
       "    </tr>\n",
       "  </thead>\n",
       "  <tbody>\n",
       "    <tr>\n",
       "      <th>0</th>\n",
       "      <td>802</td>\n",
       "      <td>Clouds</td>\n",
       "      <td>scattered clouds</td>\n",
       "      <td>03d</td>\n",
       "      <td>stations</td>\n",
       "      <td>10000</td>\n",
       "      <td>1749755324</td>\n",
       "      <td>-10800</td>\n",
       "      <td>3390760</td>\n",
       "      <td>Recife</td>\n",
       "      <td>200</td>\n",
       "      <td>-34.8811</td>\n",
       "      <td>-8.0539</td>\n",
       "      <td>28.02</td>\n",
       "      <td>31.26</td>\n",
       "      <td>28.02</td>\n",
       "      <td>28.02</td>\n",
       "      <td>1013</td>\n",
       "      <td>74</td>\n",
       "      <td>1013</td>\n",
       "      <td>1010</td>\n",
       "      <td>6.17</td>\n",
       "      <td>170</td>\n",
       "      <td>40</td>\n",
       "      <td>1</td>\n",
       "      <td>8426</td>\n",
       "      <td>BR</td>\n",
       "      <td>1749716984</td>\n",
       "      <td>1749758956</td>\n",
       "    </tr>\n",
       "  </tbody>\n",
       "</table>\n",
       "</div>"
      ],
      "text/plain": [
       "    id    main       description icon      base  visibility          dt  timezone       id    name  cod  coord.lon  coord.lat  main.temp  main.feels_like  main.temp_min  main.temp_max  main.pressure  main.humidity  main.sea_level  main.grnd_level  wind.speed  wind.deg  clouds.all  sys.type  sys.id sys.country  sys.sunrise  sys.sunset\n",
       "0  802  Clouds  scattered clouds  03d  stations       10000  1749755324    -10800  3390760  Recife  200   -34.8811    -8.0539      28.02            31.26          28.02          28.02           1013             74            1013             1010        6.17       170          40         1    8426          BR   1749716984  1749758956"
      ]
     },
     "execution_count": 4,
     "metadata": {},
     "output_type": "execute_result"
    }
   ],
   "source": [
    "df_inicial = pd.json_normalize(data_json)\n",
    "df_weather = pd.json_normalize(data_json['weather'])\n",
    "\n",
    "\n",
    "df_inicial = df_inicial.drop('weather', axis=1)\n",
    "df = pd.concat([df_weather, df_inicial], axis=1)\n",
    "\n",
    "df"
   ]
  },
  {
   "cell_type": "markdown",
   "id": "df05171b",
   "metadata": {},
   "source": [
    "### 3.1 Analisando informações do DF"
   ]
  },
  {
   "cell_type": "code",
   "execution_count": 6,
   "id": "cbc47f4d",
   "metadata": {},
   "outputs": [
    {
     "name": "stdout",
     "output_type": "stream",
     "text": [
      "<class 'pandas.core.frame.DataFrame'>\n",
      "RangeIndex: 1 entries, 0 to 0\n",
      "Data columns (total 29 columns):\n",
      " #   Column           Non-Null Count  Dtype  \n",
      "---  ------           --------------  -----  \n",
      " 0   id               1 non-null      int64  \n",
      " 1   main             1 non-null      object \n",
      " 2   description      1 non-null      object \n",
      " 3   icon             1 non-null      object \n",
      " 4   base             1 non-null      object \n",
      " 5   visibility       1 non-null      int64  \n",
      " 6   dt               1 non-null      int64  \n",
      " 7   timezone         1 non-null      int64  \n",
      " 8   id               1 non-null      int64  \n",
      " 9   name             1 non-null      object \n",
      " 10  cod              1 non-null      int64  \n",
      " 11  coord.lon        1 non-null      float64\n",
      " 12  coord.lat        1 non-null      float64\n",
      " 13  main.temp        1 non-null      float64\n",
      " 14  main.feels_like  1 non-null      float64\n",
      " 15  main.temp_min    1 non-null      float64\n",
      " 16  main.temp_max    1 non-null      float64\n",
      " 17  main.pressure    1 non-null      int64  \n",
      " 18  main.humidity    1 non-null      int64  \n",
      " 19  main.sea_level   1 non-null      int64  \n",
      " 20  main.grnd_level  1 non-null      int64  \n",
      " 21  wind.speed       1 non-null      float64\n",
      " 22  wind.deg         1 non-null      int64  \n",
      " 23  clouds.all       1 non-null      int64  \n",
      " 24  sys.type         1 non-null      int64  \n",
      " 25  sys.id           1 non-null      int64  \n",
      " 26  sys.country      1 non-null      object \n",
      " 27  sys.sunrise      1 non-null      int64  \n",
      " 28  sys.sunset       1 non-null      int64  \n",
      "dtypes: float64(7), int64(16), object(6)\n",
      "memory usage: 364.0+ bytes\n"
     ]
    }
   ],
   "source": [
    "df.info()"
   ]
  },
  {
   "cell_type": "code",
   "execution_count": 7,
   "id": "026353c8",
   "metadata": {},
   "outputs": [
    {
     "data": {
      "text/plain": [
       "(1, 29)"
      ]
     },
     "execution_count": 7,
     "metadata": {},
     "output_type": "execute_result"
    }
   ],
   "source": [
    "df.shape"
   ]
  },
  {
   "cell_type": "code",
   "execution_count": 8,
   "id": "f575515b",
   "metadata": {},
   "outputs": [
    {
     "data": {
      "text/plain": [
       "Index(['id', 'main', 'description', 'icon', 'base', 'visibility', 'dt', 'timezone', 'id', 'name', 'cod', 'coord.lon', 'coord.lat', 'main.temp', 'main.feels_like', 'main.temp_min', 'main.temp_max', 'main.pressure', 'main.humidity', 'main.sea_level', 'main.grnd_level', 'wind.speed', 'wind.deg', 'clouds.all', 'sys.type', 'sys.id', 'sys.country', 'sys.sunrise', 'sys.sunset'], dtype='object')"
      ]
     },
     "execution_count": 8,
     "metadata": {},
     "output_type": "execute_result"
    }
   ],
   "source": [
    "df.columns"
   ]
  },
  {
   "cell_type": "markdown",
   "id": "eb43405a",
   "metadata": {},
   "source": [
    "### 4. Renomeação de Colunas para Evitar Conflitos"
   ]
  },
  {
   "cell_type": "code",
   "execution_count": 9,
   "id": "94fa07fa",
   "metadata": {},
   "outputs": [],
   "source": [
    "df = df.rename(columns={\n",
    "    'id': 'weather_id',\n",
    "    'main': 'weather_main',\n",
    "    'description': 'weather_description'\n",
    "})"
   ]
  },
  {
   "cell_type": "markdown",
   "id": "1f92573c",
   "metadata": {},
   "source": [
    "### 4.1 Remoção de Colunas Desnecessárias"
   ]
  },
  {
   "cell_type": "code",
   "execution_count": 10,
   "id": "da9dc7a7",
   "metadata": {},
   "outputs": [],
   "source": [
    "df = df.drop(['icon', 'base', 'main.grnd_level', 'main.sea_level', 'sys.type', 'sys.id', 'cod', 'weather_id'], axis=1)"
   ]
  },
  {
   "cell_type": "markdown",
   "id": "1528614a",
   "metadata": {},
   "source": [
    "### 5. Renomeação final das colunas"
   ]
  },
  {
   "cell_type": "code",
   "execution_count": null,
   "id": "e321e121",
   "metadata": {},
   "outputs": [],
   "source": [
    "columns_rename = {\n",
    "    'weather_main': 'weather_condition',\n",
    "    'dt': 'measurement_datetime',\n",
    "    'visibility': 'visibility_km',\n",
    "    'name': 'city',\n",
    "    'coord.lon': 'longitude',\n",
    "    'coord.lat': 'latitude',\n",
    "    'sys.country': 'country_code',\n",
    "    'main.temp': 'temperature',\n",
    "    'main.feels_like': 'feels_like_temp',\n",
    "    'main.temp_min': 'temp_min',\n",
    "    'main.temp_max': 'temp_max',\n",
    "    'main.pressure': 'pressure',\n",
    "    'main.humidity': 'humidity',\n",
    "    'wind.speed': 'wind_speed',\n",
    "    'wind.deg': 'wind_direction_degrees',\n",
    "    'clouds.all': 'cloudiness_percent',\n",
    "    'sys.sunrise': 'sunrise_datetime',\n",
    "    'sys.sunset': 'sunset_datetime'\n",
    "}\n",
    "\n",
    "df = df.rename(columns=columns_rename)"
   ]
  },
  {
   "cell_type": "markdown",
   "id": "138e0e74",
   "metadata": {},
   "source": [
    "### 6. Arredondamento das Colunas de Temperatura"
   ]
  },
  {
   "cell_type": "code",
   "execution_count": 12,
   "id": "6f2acfac",
   "metadata": {},
   "outputs": [],
   "source": [
    "temp_columns = ['feels_like_temp', 'temp_max', 'temp_min'], 'temperature'\n",
    "\n",
    "for column in temp_columns:\n",
    "    df[column] = df[column].round(1)\n"
   ]
  },
  {
   "cell_type": "markdown",
   "id": "de66964f",
   "metadata": {},
   "source": [
    "###  7. Conversão do Fuso Horário (timezone)\n",
    "- O valor da coluna `timezone` (em segundos) foi convertido para um `pd.Timedelta`, representando o deslocamento de horário em relação ao UTC. Isso foi usado para ajustar as datas posteriormente."
   ]
  },
  {
   "cell_type": "code",
   "execution_count": 13,
   "id": "9a016d53",
   "metadata": {},
   "outputs": [
    {
     "data": {
      "text/plain": [
       "Timedelta('-1 days +21:00:00')"
      ]
     },
     "execution_count": 13,
     "metadata": {},
     "output_type": "execute_result"
    }
   ],
   "source": [
    "# timezone = -10800\n",
    "timezone = df['timezone'].iloc[0]\n",
    "offset = pd.Timedelta(seconds=timezone)\n",
    "offset"
   ]
  },
  {
   "cell_type": "markdown",
   "id": "e5b4f4a3",
   "metadata": {},
   "source": [
    "### 8. Conversão de timestamps para datetime"
   ]
  },
  {
   "cell_type": "code",
   "execution_count": null,
   "id": "e463da3a",
   "metadata": {},
   "outputs": [],
   "source": [
    "date_columns = ['measurement_datetime', 'sunrise_datetime', 'sunset_datetime']\n",
    "\n",
    "for column in date_columns:\n",
    "    df[column] = pd.to_datetime(df[column], unit='s')\n"
   ]
  },
  {
   "cell_type": "markdown",
   "id": "cbf102a1",
   "metadata": {},
   "source": [
    "### 8.1 Ajuste do Fuso Horário nos timestamps\n",
    "- Adicionei o `offset` de timezone às colunas de data, convertendo os horários para o fuso horário local do local medido."
   ]
  },
  {
   "cell_type": "code",
   "execution_count": null,
   "id": "0bfc5c64",
   "metadata": {},
   "outputs": [],
   "source": [
    "date_columns = ['measurement_datetime', 'sunrise_datetime', 'sunset_datetime']\n",
    "for column in date_columns:\n",
    "    df[column] =  df[column] + offset"
   ]
  },
  {
   "cell_type": "markdown",
   "id": "32fe469e",
   "metadata": {},
   "source": [
    "### 8.2. Criação da coluna `record_datetime`\n",
    "- Foi criada a coluna `record_datetime` copiando os valores de `measurement_timestamp`, para facilitar futuras manipulações ou análises sem alterar a coluna original."
   ]
  },
  {
   "cell_type": "code",
   "execution_count": null,
   "id": "85b5c361",
   "metadata": {},
   "outputs": [],
   "source": [
    "df['record_timestamp'] = df['measurement_datetime']"
   ]
  },
  {
   "cell_type": "markdown",
   "id": "caf13cbe",
   "metadata": {},
   "source": [
    "###  10. Extração do horário (sem a data) "
   ]
  },
  {
   "cell_type": "code",
   "execution_count": 18,
   "id": "b2799ed0",
   "metadata": {},
   "outputs": [],
   "source": [
    "date_columns = ['measurement_timestamp', 'sunrise_timestamp', 'sunset_timestamp']\n",
    "\n",
    "for column in date_columns:\n",
    "    df[column] = df[column].dt.time"
   ]
  },
  {
   "cell_type": "markdown",
   "id": "3b3ccf58",
   "metadata": {},
   "source": [
    "### 11. Conversão da visibilidade para km\n",
    "- A coluna `visibility_km` originalmente está em metros. Realizamos a conversão para quilômetros dividindo por 1000, o que facilita a leitura e interpretação dos dados."
   ]
  },
  {
   "cell_type": "code",
   "execution_count": 19,
   "id": "b50dfaa0",
   "metadata": {},
   "outputs": [],
   "source": [
    "df['visibility_km'] = df['visibility_km'] / 1000"
   ]
  },
  {
   "cell_type": "code",
   "execution_count": 20,
   "id": "c2057819",
   "metadata": {},
   "outputs": [
    {
     "name": "stdout",
     "output_type": "stream",
     "text": [
      "<class 'pandas.core.frame.DataFrame'>\n",
      "RangeIndex: 1 entries, 0 to 0\n",
      "Data columns (total 22 columns):\n",
      " #   Column                  Non-Null Count  Dtype         \n",
      "---  ------                  --------------  -----         \n",
      " 0   weather_condition       1 non-null      object        \n",
      " 1   weather_description     1 non-null      object        \n",
      " 2   visibility_km           1 non-null      float64       \n",
      " 3   measurement_timestamp   1 non-null      object        \n",
      " 4   timezone                1 non-null      int64         \n",
      " 5   city                    1 non-null      object        \n",
      " 6   longitude               1 non-null      float64       \n",
      " 7   latitude                1 non-null      float64       \n",
      " 8   temperature             1 non-null      float64       \n",
      " 9   feels_like_temp         1 non-null      float64       \n",
      " 10  temp_min                1 non-null      float64       \n",
      " 11  temp_max                1 non-null      float64       \n",
      " 12  pressure                1 non-null      int64         \n",
      " 13  humidity                1 non-null      int64         \n",
      " 14  wind_speed              1 non-null      float64       \n",
      " 15  wind_direction_degrees  1 non-null      int64         \n",
      " 16  cloudiness_percent      1 non-null      int64         \n",
      " 17  country_code            1 non-null      object        \n",
      " 18  sunrise_timestamp       1 non-null      object        \n",
      " 19  sunset_timestamp        1 non-null      object        \n",
      " 20  record_datetime         1 non-null      datetime64[ns]\n",
      " 21  record_year             1 non-null      object        \n",
      "dtypes: datetime64[ns](1), float64(8), int64(5), object(8)\n",
      "memory usage: 308.0+ bytes\n"
     ]
    }
   ],
   "source": [
    "df.info()"
   ]
  },
  {
   "cell_type": "code",
   "execution_count": 24,
   "id": "402eafa6",
   "metadata": {},
   "outputs": [
    {
     "data": {
      "text/html": [
       "<div>\n",
       "<style scoped>\n",
       "    .dataframe tbody tr th:only-of-type {\n",
       "        vertical-align: middle;\n",
       "    }\n",
       "\n",
       "    .dataframe tbody tr th {\n",
       "        vertical-align: top;\n",
       "    }\n",
       "\n",
       "    .dataframe thead th {\n",
       "        text-align: right;\n",
       "    }\n",
       "</style>\n",
       "<table border=\"1\" class=\"dataframe\">\n",
       "  <thead>\n",
       "    <tr style=\"text-align: right;\">\n",
       "      <th></th>\n",
       "      <th>weather_condition</th>\n",
       "      <th>weather_description</th>\n",
       "      <th>visibility_km</th>\n",
       "      <th>measurement_timestamp</th>\n",
       "      <th>timezone</th>\n",
       "      <th>city</th>\n",
       "      <th>longitude</th>\n",
       "      <th>latitude</th>\n",
       "      <th>temperature</th>\n",
       "      <th>feels_like_temp</th>\n",
       "      <th>temp_min</th>\n",
       "      <th>temp_max</th>\n",
       "      <th>pressure</th>\n",
       "      <th>humidity</th>\n",
       "      <th>wind_speed</th>\n",
       "      <th>wind_direction_degrees</th>\n",
       "      <th>cloudiness_percent</th>\n",
       "      <th>country_code</th>\n",
       "      <th>sunrise_timestamp</th>\n",
       "      <th>sunset_timestamp</th>\n",
       "      <th>record_datetime</th>\n",
       "      <th>record_year</th>\n",
       "    </tr>\n",
       "  </thead>\n",
       "  <tbody>\n",
       "    <tr>\n",
       "      <th>0</th>\n",
       "      <td>Clouds</td>\n",
       "      <td>scattered clouds</td>\n",
       "      <td>10.0</td>\n",
       "      <td>16:08:44</td>\n",
       "      <td>-10800</td>\n",
       "      <td>Recife</td>\n",
       "      <td>-34.8811</td>\n",
       "      <td>-8.0539</td>\n",
       "      <td>28.0</td>\n",
       "      <td>31.3</td>\n",
       "      <td>28.0</td>\n",
       "      <td>28.0</td>\n",
       "      <td>1013</td>\n",
       "      <td>74</td>\n",
       "      <td>6.17</td>\n",
       "      <td>170</td>\n",
       "      <td>40</td>\n",
       "      <td>BR</td>\n",
       "      <td>05:29:44</td>\n",
       "      <td>17:09:16</td>\n",
       "      <td>2025-06-12 16:08:44</td>\n",
       "      <td>2025-06-12</td>\n",
       "    </tr>\n",
       "  </tbody>\n",
       "</table>\n",
       "</div>"
      ],
      "text/plain": [
       "  weather_condition weather_description  visibility_km measurement_timestamp  timezone    city  longitude  latitude  temperature  feels_like_temp  temp_min  temp_max  pressure  humidity  wind_speed  wind_direction_degrees  cloudiness_percent country_code sunrise_timestamp sunset_timestamp     record_datetime record_year\n",
       "0            Clouds    scattered clouds           10.0              16:08:44    -10800  Recife   -34.8811   -8.0539         28.0             31.3      28.0      28.0      1013        74        6.17                     170                  40           BR          05:29:44         17:09:16 2025-06-12 16:08:44  2025-06-12"
      ]
     },
     "execution_count": 24,
     "metadata": {},
     "output_type": "execute_result"
    }
   ],
   "source": [
    "df"
   ]
  }
 ],
 "metadata": {
  "kernelspec": {
   "display_name": ".venv",
   "language": "python",
   "name": "python3"
  },
  "language_info": {
   "codemirror_mode": {
    "name": "ipython",
    "version": 3
   },
   "file_extension": ".py",
   "mimetype": "text/x-python",
   "name": "python",
   "nbconvert_exporter": "python",
   "pygments_lexer": "ipython3",
   "version": "3.11.9"
  }
 },
 "nbformat": 4,
 "nbformat_minor": 5
}
